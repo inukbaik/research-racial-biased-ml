{
 "cells": [
  {
   "cell_type": "code",
   "execution_count": 2,
   "id": "b86a5110",
   "metadata": {},
   "outputs": [],
   "source": [
    "import pandas as pd\n",
    "\n",
    "# Load the dataset\n",
    "file_path = 'AH_Deaths_by_Educational.csv'\n",
    "data = pd.read_csv(file_path)"
   ]
  },
  {
   "cell_type": "code",
   "execution_count": 3,
   "id": "9a6a1671",
   "metadata": {},
   "outputs": [
    {
     "data": {
      "text/html": [
       "<div>\n",
       "<style scoped>\n",
       "    .dataframe tbody tr th:only-of-type {\n",
       "        vertical-align: middle;\n",
       "    }\n",
       "\n",
       "    .dataframe tbody tr th {\n",
       "        vertical-align: top;\n",
       "    }\n",
       "\n",
       "    .dataframe thead th {\n",
       "        text-align: right;\n",
       "    }\n",
       "</style>\n",
       "<table border=\"1\" class=\"dataframe\">\n",
       "  <thead>\n",
       "    <tr style=\"text-align: right;\">\n",
       "      <th></th>\n",
       "      <th>Data as of</th>\n",
       "      <th>Year</th>\n",
       "      <th>Education Level</th>\n",
       "      <th>Race or Hispanic Origin</th>\n",
       "      <th>Sex</th>\n",
       "      <th>Age Group</th>\n",
       "      <th>Total Deaths</th>\n",
       "      <th>COVID-19 Deaths</th>\n",
       "    </tr>\n",
       "  </thead>\n",
       "  <tbody>\n",
       "    <tr>\n",
       "      <th>0</th>\n",
       "      <td>12/01/2021</td>\n",
       "      <td>2019</td>\n",
       "      <td>High school graduate/GED or less</td>\n",
       "      <td>Hispanic</td>\n",
       "      <td>Female</td>\n",
       "      <td>0-24 years</td>\n",
       "      <td>3733</td>\n",
       "      <td>0</td>\n",
       "    </tr>\n",
       "    <tr>\n",
       "      <th>1</th>\n",
       "      <td>12/01/2021</td>\n",
       "      <td>2019</td>\n",
       "      <td>High school graduate/GED or less</td>\n",
       "      <td>Hispanic</td>\n",
       "      <td>Female</td>\n",
       "      <td>25-39 years</td>\n",
       "      <td>2534</td>\n",
       "      <td>0</td>\n",
       "    </tr>\n",
       "    <tr>\n",
       "      <th>2</th>\n",
       "      <td>12/01/2021</td>\n",
       "      <td>2019</td>\n",
       "      <td>High school graduate/GED or less</td>\n",
       "      <td>Hispanic</td>\n",
       "      <td>Female</td>\n",
       "      <td>40-54 years</td>\n",
       "      <td>5677</td>\n",
       "      <td>0</td>\n",
       "    </tr>\n",
       "    <tr>\n",
       "      <th>3</th>\n",
       "      <td>12/01/2021</td>\n",
       "      <td>2019</td>\n",
       "      <td>High school graduate/GED or less</td>\n",
       "      <td>Hispanic</td>\n",
       "      <td>Female</td>\n",
       "      <td>55-64 years</td>\n",
       "      <td>7769</td>\n",
       "      <td>0</td>\n",
       "    </tr>\n",
       "    <tr>\n",
       "      <th>4</th>\n",
       "      <td>12/01/2021</td>\n",
       "      <td>2019</td>\n",
       "      <td>High school graduate/GED or less</td>\n",
       "      <td>Hispanic</td>\n",
       "      <td>Female</td>\n",
       "      <td>65-74 years</td>\n",
       "      <td>11702</td>\n",
       "      <td>0</td>\n",
       "    </tr>\n",
       "  </tbody>\n",
       "</table>\n",
       "</div>"
      ],
      "text/plain": [
       "   Data as of  Year                   Education Level Race or Hispanic Origin  \\\n",
       "0  12/01/2021  2019  High school graduate/GED or less                Hispanic   \n",
       "1  12/01/2021  2019  High school graduate/GED or less                Hispanic   \n",
       "2  12/01/2021  2019  High school graduate/GED or less                Hispanic   \n",
       "3  12/01/2021  2019  High school graduate/GED or less                Hispanic   \n",
       "4  12/01/2021  2019  High school graduate/GED or less                Hispanic   \n",
       "\n",
       "      Sex    Age Group  Total Deaths  COVID-19 Deaths  \n",
       "0  Female   0-24 years          3733                0  \n",
       "1  Female  25-39 years          2534                0  \n",
       "2  Female  40-54 years          5677                0  \n",
       "3  Female  55-64 years          7769                0  \n",
       "4  Female  65-74 years         11702                0  "
      ]
     },
     "execution_count": 3,
     "metadata": {},
     "output_type": "execute_result"
    }
   ],
   "source": [
    "data.head()"
   ]
  },
  {
   "cell_type": "code",
   "execution_count": 20,
   "id": "afd22a5f",
   "metadata": {},
   "outputs": [
    {
     "name": "stdout",
     "output_type": "stream",
     "text": [
      "<class 'pandas.core.frame.DataFrame'>\n",
      "Index: 288 entries, 379 to 666\n",
      "Data columns (total 8 columns):\n",
      " #   Column                   Non-Null Count  Dtype \n",
      "---  ------                   --------------  ----- \n",
      " 0   Data as of               288 non-null    object\n",
      " 1   Year                     288 non-null    int64 \n",
      " 2   Education Level          288 non-null    object\n",
      " 3   Race or Hispanic Origin  288 non-null    object\n",
      " 4   Sex                      288 non-null    object\n",
      " 5   Age Group                288 non-null    object\n",
      " 6   Total Deaths             288 non-null    int64 \n",
      " 7   COVID-19 Deaths          288 non-null    int64 \n",
      "dtypes: int64(3), object(5)\n",
      "memory usage: 20.2+ KB\n"
     ]
    }
   ],
   "source": [
    "data = data[data['Year'] != 2019]\n",
    "data.info()"
   ]
  },
  {
   "cell_type": "code",
   "execution_count": 21,
   "id": "d8507be7",
   "metadata": {},
   "outputs": [
    {
     "name": "stdout",
     "output_type": "stream",
     "text": [
      "<class 'pandas.core.frame.DataFrame'>\n",
      "Index: 288 entries, 379 to 666\n",
      "Data columns (total 8 columns):\n",
      " #   Column                   Non-Null Count  Dtype \n",
      "---  ------                   --------------  ----- \n",
      " 0   Data as of               288 non-null    object\n",
      " 1   Year                     288 non-null    int64 \n",
      " 2   Education Level          288 non-null    object\n",
      " 3   Race or Hispanic Origin  288 non-null    object\n",
      " 4   Sex                      288 non-null    object\n",
      " 5   Age Group                288 non-null    object\n",
      " 6   Total Deaths             288 non-null    int64 \n",
      " 7   COVID-19 Deaths          288 non-null    int64 \n",
      "dtypes: int64(3), object(5)\n",
      "memory usage: 20.2+ KB\n"
     ]
    }
   ],
   "source": [
    "data = data[data['Education Level'] != 'Unknown']\n",
    "data.info()"
   ]
  },
  {
   "cell_type": "code",
   "execution_count": 22,
   "id": "69b46164",
   "metadata": {},
   "outputs": [
    {
     "name": "stdout",
     "output_type": "stream",
     "text": [
      "<class 'pandas.core.frame.DataFrame'>\n",
      "Index: 252 entries, 379 to 654\n",
      "Data columns (total 8 columns):\n",
      " #   Column                   Non-Null Count  Dtype \n",
      "---  ------                   --------------  ----- \n",
      " 0   Data as of               252 non-null    object\n",
      " 1   Year                     252 non-null    int64 \n",
      " 2   Education Level          252 non-null    object\n",
      " 3   Race or Hispanic Origin  252 non-null    object\n",
      " 4   Sex                      252 non-null    object\n",
      " 5   Age Group                252 non-null    object\n",
      " 6   Total Deaths             252 non-null    int64 \n",
      " 7   COVID-19 Deaths          252 non-null    int64 \n",
      "dtypes: int64(3), object(5)\n",
      "memory usage: 17.7+ KB\n"
     ]
    }
   ],
   "source": [
    "data = data[data['Race or Hispanic Origin'] != 'Unknown']\n",
    "data.info()"
   ]
  },
  {
   "cell_type": "code",
   "execution_count": 25,
   "id": "6e624a1d",
   "metadata": {},
   "outputs": [
    {
     "data": {
      "text/html": [
       "<div>\n",
       "<style scoped>\n",
       "    .dataframe tbody tr th:only-of-type {\n",
       "        vertical-align: middle;\n",
       "    }\n",
       "\n",
       "    .dataframe tbody tr th {\n",
       "        vertical-align: top;\n",
       "    }\n",
       "\n",
       "    .dataframe thead th {\n",
       "        text-align: right;\n",
       "    }\n",
       "</style>\n",
       "<table border=\"1\" class=\"dataframe\">\n",
       "  <thead>\n",
       "    <tr style=\"text-align: right;\">\n",
       "      <th></th>\n",
       "      <th>Data as of</th>\n",
       "      <th>Year</th>\n",
       "      <th>Education Level</th>\n",
       "      <th>Race or Hispanic Origin</th>\n",
       "      <th>Sex</th>\n",
       "      <th>Age Group</th>\n",
       "      <th>COVID-19 Deaths</th>\n",
       "    </tr>\n",
       "  </thead>\n",
       "  <tbody>\n",
       "    <tr>\n",
       "      <th>379</th>\n",
       "      <td>12/01/2021</td>\n",
       "      <td>2020</td>\n",
       "      <td>Associate degree or some college</td>\n",
       "      <td>Hispanic</td>\n",
       "      <td>Female</td>\n",
       "      <td>0-24 years</td>\n",
       "      <td>19</td>\n",
       "    </tr>\n",
       "    <tr>\n",
       "      <th>380</th>\n",
       "      <td>12/01/2021</td>\n",
       "      <td>2020</td>\n",
       "      <td>Associate degree or some college</td>\n",
       "      <td>Hispanic</td>\n",
       "      <td>Female</td>\n",
       "      <td>25-39 years</td>\n",
       "      <td>127</td>\n",
       "    </tr>\n",
       "    <tr>\n",
       "      <th>381</th>\n",
       "      <td>12/01/2021</td>\n",
       "      <td>2020</td>\n",
       "      <td>Associate degree or some college</td>\n",
       "      <td>Hispanic</td>\n",
       "      <td>Female</td>\n",
       "      <td>40-54 years</td>\n",
       "      <td>410</td>\n",
       "    </tr>\n",
       "    <tr>\n",
       "      <th>382</th>\n",
       "      <td>12/01/2021</td>\n",
       "      <td>2020</td>\n",
       "      <td>Associate degree or some college</td>\n",
       "      <td>Hispanic</td>\n",
       "      <td>Female</td>\n",
       "      <td>55-64 years</td>\n",
       "      <td>586</td>\n",
       "    </tr>\n",
       "    <tr>\n",
       "      <th>383</th>\n",
       "      <td>12/01/2021</td>\n",
       "      <td>2020</td>\n",
       "      <td>Associate degree or some college</td>\n",
       "      <td>Hispanic</td>\n",
       "      <td>Female</td>\n",
       "      <td>65-74 years</td>\n",
       "      <td>689</td>\n",
       "    </tr>\n",
       "  </tbody>\n",
       "</table>\n",
       "</div>"
      ],
      "text/plain": [
       "     Data as of  Year                   Education Level  \\\n",
       "379  12/01/2021  2020  Associate degree or some college   \n",
       "380  12/01/2021  2020  Associate degree or some college   \n",
       "381  12/01/2021  2020  Associate degree or some college   \n",
       "382  12/01/2021  2020  Associate degree or some college   \n",
       "383  12/01/2021  2020  Associate degree or some college   \n",
       "\n",
       "    Race or Hispanic Origin     Sex    Age Group  COVID-19 Deaths  \n",
       "379                Hispanic  Female   0-24 years               19  \n",
       "380                Hispanic  Female  25-39 years              127  \n",
       "381                Hispanic  Female  40-54 years              410  \n",
       "382                Hispanic  Female  55-64 years              586  \n",
       "383                Hispanic  Female  65-74 years              689  "
      ]
     },
     "execution_count": 25,
     "metadata": {},
     "output_type": "execute_result"
    }
   ],
   "source": [
    "data.head()"
   ]
  },
  {
   "cell_type": "code",
   "execution_count": 26,
   "id": "34f3f8f7",
   "metadata": {},
   "outputs": [],
   "source": [
    "data.to_csv('procdata.csv')"
   ]
  },
  {
   "cell_type": "code",
   "execution_count": 30,
   "id": "f0f21a83",
   "metadata": {},
   "outputs": [
    {
     "data": {
      "image/png": "[encoded data removed]",
      "text/plain": [
       "<Figure size 1000x600 with 1 Axes>"
      ]
     },
     "metadata": {},
     "output_type": "display_data"
    }
   ],
   "source": [
    "import pandas as pd\n",
    "from sklearn.model_selection import train_test_split\n",
    "from sklearn.ensemble import RandomForestRegressor\n",
    "from sklearn.preprocessing import LabelEncoder\n",
    "import matplotlib.pyplot as plt\n",
    "import seaborn as sns\n",
    "\n",
    "# Load the dataset\n",
    "data_path = 'procdata.csv'\n",
    "df = pd.read_csv(data_path)\n",
    "\n",
    "# Preprocess the dataset\n",
    "# Drop unnecessary columns\n",
    "df_cleaned = df.drop(columns=['Unnamed: 0', 'Data as of'])\n",
    "\n",
    "# Encode categorical variables\n",
    "label_encoders = {}\n",
    "for column in ['Education Level', 'Race or Hispanic Origin', 'Sex', 'Age Group']:\n",
    "    le = LabelEncoder()\n",
    "    df_cleaned[column] = le.fit_transform(df_cleaned[column])\n",
    "    label_encoders[column] = le\n",
    "\n",
    "# Split the data into features and target\n",
    "X = df_cleaned.drop('COVID-19 Deaths', axis=1)\n",
    "y = df_cleaned['COVID-19 Deaths']\n",
    "\n",
    "# Split the dataset into training and testing sets\n",
    "X_train, X_test, y_train, y_test = train_test_split(X, y, test_size=0.2, random_state=42)\n",
    "\n",
    "# Initialize and train the Random Forest Regressor\n",
    "rf_model = RandomForestRegressor(n_estimators=100, random_state=42)\n",
    "rf_model.fit(X_train, y_train)\n",
    "\n",
    "# Get feature importance\n",
    "feature_importance = rf_model.feature_importances_\n",
    "\n",
    "# Create a DataFrame for visualization\n",
    "features_df = pd.DataFrame({'Feature': X.columns, 'Importance': feature_importance}).sort_values(by='Importance', ascending=False)\n",
    "\n",
    "# Visualize the feature importance\n",
    "plt.figure(figsize=(10, 6))\n",
    "sns.barplot(x='Importance', y='Feature', data=features_df)\n",
    "plt.title('Feature Importance for Predicting COVID-19 Deaths')\n",
    "plt.xlabel('Importance')\n",
    "plt.ylabel('Feature')\n",
    "plt.show()"
   ]
  },
  {
   "cell_type": "code",
   "execution_count": null,
   "id": "c66bc264",
   "metadata": {},
   "outputs": [],
   "source": []
  }
 ],
 "metadata": {
  "kernelspec": {
   "display_name": "Python 3 (ipykernel)",
   "language": "python",
   "name": "python3"
  },
  "language_info": {
   "codemirror_mode": {
    "name": "ipython",
    "version": 3
   },
   "file_extension": ".py",
   "mimetype": "text/x-python",
   "name": "python",
   "nbconvert_exporter": "python",
   "pygments_lexer": "ipython3",
   "version": "3.11.5"
  }
 },
 "nbformat": 4,
 "nbformat_minor": 5
}
